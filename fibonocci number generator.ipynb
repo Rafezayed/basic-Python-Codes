{
 "cells": [
  {
   "cell_type": "code",
   "execution_count": 1,
   "metadata": {},
   "outputs": [],
   "source": [
    "#If a number n is put in the function, a list of n fibonocci numbers will be printed"
   ]
  },
  {
   "cell_type": "code",
   "execution_count": 22,
   "metadata": {},
   "outputs": [
    {
     "name": "stdout",
     "output_type": "stream",
     "text": [
      "nth fibbonocci is 5\n"
     ]
    }
   ],
   "source": [
    "def fib(n):\n",
    "    list=[0 for i in range(n)]\n",
    "    if n<2:\n",
    "        for i in range(n):\n",
    "            list[i]=1\n",
    "    else:\n",
    "        for i in range(2):\n",
    "            list[i]=1\n",
    "        for i in range(2,n,1):\n",
    "            list[i]=list[i-1]+list[i-2]\n",
    "    \n",
    "    return list\n",
    "def fibn(n):\n",
    "    print(\"nth fibbonocci is\", fib(n)[n-1])\n",
    "fibn(5)\n",
    "       \n",
    "        "
   ]
  },
  {
   "cell_type": "code",
   "execution_count": null,
   "metadata": {},
   "outputs": [],
   "source": []
  },
  {
   "cell_type": "code",
   "execution_count": null,
   "metadata": {},
   "outputs": [],
   "source": []
  }
 ],
 "metadata": {
  "kernelspec": {
   "display_name": "Python 3",
   "language": "python",
   "name": "python3"
  },
  "language_info": {
   "codemirror_mode": {
    "name": "ipython",
    "version": 3
   },
   "file_extension": ".py",
   "mimetype": "text/x-python",
   "name": "python",
   "nbconvert_exporter": "python",
   "pygments_lexer": "ipython3",
   "version": "3.7.6"
  }
 },
 "nbformat": 4,
 "nbformat_minor": 4
}
