{
 "cells": [
  {
   "cell_type": "code",
   "execution_count": 57,
   "metadata": {},
   "outputs": [],
   "source": [
    "# A class will be made, which will take a string as input and numbers of entry in it\n",
    "# The string will contain name,institute and marks of students.\n",
    "#sorted_list will then return the sorted position.\n",
    "class A:\n",
    "    def __init__(self,a,n):\n",
    "        self.name=[]\n",
    "        self.institute=[]\n",
    "        self.marks=[]\n",
    "        self.n=n\n",
    "        for i in range(self.n):\n",
    "            self.name.append(a[i][0])\n",
    "            self.institute.append(a[i][1])\n",
    "            self.marks.append(a[i][2])\n",
    "    def sorted_list(self):\n",
    "        get_sorted_index=sorted(range(len(self.marks)),key=self.marks.__getitem__)\n",
    "        position=self.n\n",
    "        for i in get_sorted_index:\n",
    "            print(self.name[i],\"from\",self.institute[i],\"stood\",position,\"in the exam. Her mark is\",self.marks[i])\n",
    "            position=position-1\n",
    "        \n",
    "        \n",
    "            \n",
    "        \n",
    "    \n",
    "    "
   ]
  },
  {
   "cell_type": "code",
   "execution_count": 66,
   "metadata": {},
   "outputs": [
    {
     "name": "stdout",
     "output_type": "stream",
     "text": [
      "Rinty from BU stood 4 in the exam. Her mark is 67\n",
      "Riya from BUET stood 3 in the exam. Her mark is 73\n",
      "Sharmi from PKMC stood 2 in the exam. Her mark is 85\n",
      "Rashmi from IUT stood 1 in the exam. Her mark is 89\n"
     ]
    }
   ],
   "source": [
    "data=[[\"Rashmi\", \"IUT\",89],[\"Riya\",\"BUET\",73],[\"Sharmi\",\"PKMC\",85],[\"Rinty\",\"BU\",67]]\n",
    "result=A(data,len(data))\n",
    "result.sorted_list()"
   ]
  },
  {
   "cell_type": "code",
   "execution_count": null,
   "metadata": {},
   "outputs": [],
   "source": []
  },
  {
   "cell_type": "code",
   "execution_count": null,
   "metadata": {},
   "outputs": [],
   "source": []
  }
 ],
 "metadata": {
  "kernelspec": {
   "display_name": "Python 3",
   "language": "python",
   "name": "python3"
  },
  "language_info": {
   "codemirror_mode": {
    "name": "ipython",
    "version": 3
   },
   "file_extension": ".py",
   "mimetype": "text/x-python",
   "name": "python",
   "nbconvert_exporter": "python",
   "pygments_lexer": "ipython3",
   "version": "3.7.6"
  }
 },
 "nbformat": 4,
 "nbformat_minor": 4
}
